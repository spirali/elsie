{
 "cells": [
  {
   "cell_type": "code",
   "execution_count": null,
   "metadata": {
    "pycharm": {
     "name": "#%%\n"
    }
   },
   "outputs": [],
   "source": [
    "import elsie\n",
    "\n",
    "slides = elsie.SlideDeck(320, 280)"
   ]
  },
  {
   "cell_type": "code",
   "execution_count": null,
   "metadata": {
    "pycharm": {
     "name": "#%%\n"
    }
   },
   "outputs": [],
   "source": [
    "from ipywidgets import interact\n",
    "import ipywidgets as widgets\n",
    "\n",
    "# Using `ipywidgets`, you can create interactive slides.\n",
    "# After each change of the slider, the slide will re-render.\n",
    "def interactive_slide(x):\n",
    "    @slides.slide()\n",
    "    def slide_fn(slide):\n",
    "        slide.box().text(f\"X: {x}\")\n",
    "        row = slide.box(horizontal=True)\n",
    "        for _ in range(x):\n",
    "            row.box(width=50, height=50, padding=10).rect(bg_color=\"red\")\n",
    "    return slide_fn\n",
    "\n",
    "interact(interactive_slide, x=widgets.IntSlider(min=1, max=5, step=1, continuous_update=False));"
   ]
  },
  {
   "cell_type": "code",
   "execution_count": null,
   "metadata": {},
   "outputs": [],
   "source": [
    "# SlideDeck with multiple fragments (steps) will include buttons to move to the previous/next step.\n",
    "@slides.slide()\n",
    "def multistep_slide(slide):\n",
    "    slide.box().text(f\"Step 1\")\n",
    "    slide.box(show=\"next+\").text(f\"Step 2\")\n",
    "    slide.box(show=\"next+\").text(f\"Step 3\")\n",
    "multistep_slide"
   ]
  }
 ],
 "metadata": {
  "kernelspec": {
   "display_name": "Python 3",
   "language": "python",
   "name": "python3"
  },
  "language_info": {
   "codemirror_mode": {
    "name": "ipython",
    "version": 3
   },
   "file_extension": ".py",
   "mimetype": "text/x-python",
   "name": "python",
   "nbconvert_exporter": "python",
   "pygments_lexer": "ipython3",
   "version": "3.8.5"
  }
 },
 "nbformat": 4,
 "nbformat_minor": 4
}